{
 "cells": [
  {
   "cell_type": "markdown",
   "id": "ccf87020",
   "metadata": {},
   "source": [
    "# Semana 03"
   ]
  },
  {
   "cell_type": "markdown",
   "id": "0f547b03",
   "metadata": {},
   "source": [
    "Victor Huaman Simeon "
   ]
  },
  {
   "cell_type": "markdown",
   "id": "4ab97f51",
   "metadata": {},
   "source": [
    "# Temas:\n",
    "    1.numeros\n",
    "    2.variables\n",
    "    3.manejo de cadenas\n",
    "    4.ingreso de datos por el teclado\n",
    "    5.operadores\n",
    "    \n",
    "    2.variables"
   ]
  },
  {
   "cell_type": "code",
   "execution_count": 1,
   "id": "b2f0da17",
   "metadata": {},
   "outputs": [],
   "source": [
    "# siempre deben iniciar cpn una letra o un guion abajo\n"
   ]
  },
  {
   "cell_type": "code",
   "execution_count": 2,
   "id": "38333ca0",
   "metadata": {},
   "outputs": [
    {
     "data": {
      "text/plain": [
       "41"
      ]
     },
     "execution_count": 2,
     "metadata": {},
     "output_type": "execute_result"
    }
   ],
   "source": [
    "edad=41\n",
    "edad"
   ]
  },
  {
   "cell_type": "code",
   "execution_count": 3,
   "id": "d8e0d780",
   "metadata": {},
   "outputs": [
    {
     "data": {
      "text/plain": [
       "'victor'"
      ]
     },
     "execution_count": 3,
     "metadata": {},
     "output_type": "execute_result"
    }
   ],
   "source": [
    "nombre=\"victor\"\n",
    "nombre"
   ]
  },
  {
   "cell_type": "code",
   "execution_count": 4,
   "id": "e106e9ea",
   "metadata": {},
   "outputs": [
    {
     "data": {
      "text/plain": [
       "'Huaman Simeon'"
      ]
     },
     "execution_count": 4,
     "metadata": {},
     "output_type": "execute_result"
    }
   ],
   "source": [
    "apellido=\"Huaman Simeon\"\n",
    "apellido\n"
   ]
  },
  {
   "cell_type": "code",
   "execution_count": 5,
   "id": "e2641ffb",
   "metadata": {},
   "outputs": [
    {
     "data": {
      "text/plain": [
       "'victorHuaman Simeon'"
      ]
     },
     "execution_count": 5,
     "metadata": {},
     "output_type": "execute_result"
    }
   ],
   "source": [
    "nombrecompleto=nombre + apellido\n",
    "nombrecompleto"
   ]
  },
  {
   "cell_type": "code",
   "execution_count": 6,
   "id": "67e04fd6",
   "metadata": {},
   "outputs": [
    {
     "data": {
      "text/plain": [
       "'victor Huaman Simeon'"
      ]
     },
     "execution_count": 6,
     "metadata": {},
     "output_type": "execute_result"
    }
   ],
   "source": [
    "nombrecompleto=nombre + \" \" + apellido\n",
    "nombrecompleto"
   ]
  },
  {
   "cell_type": "code",
   "execution_count": 7,
   "id": "6b44576e",
   "metadata": {},
   "outputs": [
    {
     "data": {
      "text/plain": [
       "int"
      ]
     },
     "execution_count": 7,
     "metadata": {},
     "output_type": "execute_result"
    }
   ],
   "source": [
    "numero = 50\n",
    "type(numero)"
   ]
  },
  {
   "cell_type": "code",
   "execution_count": 8,
   "id": "460e9b02",
   "metadata": {},
   "outputs": [
    {
     "data": {
      "text/plain": [
       "str"
      ]
     },
     "execution_count": 8,
     "metadata": {},
     "output_type": "execute_result"
    }
   ],
   "source": [
    "type(nombre)\n"
   ]
  },
  {
   "cell_type": "code",
   "execution_count": 9,
   "id": "f44d4fcb",
   "metadata": {},
   "outputs": [
    {
     "data": {
      "text/plain": [
       "1.68"
      ]
     },
     "execution_count": 9,
     "metadata": {},
     "output_type": "execute_result"
    }
   ],
   "source": [
    "talla=1.68\n",
    "talla"
   ]
  },
  {
   "cell_type": "code",
   "execution_count": 10,
   "id": "89def492",
   "metadata": {},
   "outputs": [
    {
     "data": {
      "text/plain": [
       "float"
      ]
     },
     "execution_count": 10,
     "metadata": {},
     "output_type": "execute_result"
    }
   ],
   "source": [
    "type(talla)"
   ]
  },
  {
   "cell_type": "code",
   "execution_count": 11,
   "id": "f5bc2b60",
   "metadata": {},
   "outputs": [],
   "source": [
    "#para convertir un numero en cadena utilizamos str()\n",
    "numero=100\n",
    "cadena=str(numero)"
   ]
  },
  {
   "cell_type": "code",
   "execution_count": 12,
   "id": "b249446f",
   "metadata": {},
   "outputs": [
    {
     "data": {
      "text/plain": [
       "'100'"
      ]
     },
     "execution_count": 12,
     "metadata": {},
     "output_type": "execute_result"
    }
   ],
   "source": [
    "cadena"
   ]
  },
  {
   "cell_type": "code",
   "execution_count": 13,
   "id": "3920d9ba",
   "metadata": {},
   "outputs": [
    {
     "data": {
      "text/plain": [
       "str"
      ]
     },
     "execution_count": 13,
     "metadata": {},
     "output_type": "execute_result"
    }
   ],
   "source": [
    "type(cadena)"
   ]
  },
  {
   "cell_type": "code",
   "execution_count": 14,
   "id": "ac20bd1e",
   "metadata": {},
   "outputs": [
    {
     "data": {
      "text/plain": [
       "50"
      ]
     },
     "execution_count": 14,
     "metadata": {},
     "output_type": "execute_result"
    }
   ],
   "source": [
    "cadena2=\"50\"\n",
    "numero2=int(cadena2)\n",
    "numero2"
   ]
  },
  {
   "cell_type": "code",
   "execution_count": 15,
   "id": "cfb3d034",
   "metadata": {},
   "outputs": [
    {
     "data": {
      "text/plain": [
       "int"
      ]
     },
     "execution_count": 15,
     "metadata": {},
     "output_type": "execute_result"
    }
   ],
   "source": [
    "type(numero2)"
   ]
  },
  {
   "cell_type": "code",
   "execution_count": 16,
   "id": "7cf873d0",
   "metadata": {},
   "outputs": [
    {
     "data": {
      "text/plain": [
       "50.0"
      ]
     },
     "execution_count": 16,
     "metadata": {},
     "output_type": "execute_result"
    }
   ],
   "source": [
    "cadena2=\"50\"\n",
    "numero2=float(cadena2)\n",
    "numero2"
   ]
  },
  {
   "cell_type": "code",
   "execution_count": 17,
   "id": "7b4c22be",
   "metadata": {},
   "outputs": [
    {
     "data": {
      "text/plain": [
       "float"
      ]
     },
     "execution_count": 17,
     "metadata": {},
     "output_type": "execute_result"
    }
   ],
   "source": [
    "type(numero2)"
   ]
  },
  {
   "cell_type": "code",
   "execution_count": null,
   "id": "b6afe0c8",
   "metadata": {},
   "outputs": [],
   "source": []
  }
 ],
 "metadata": {
  "kernelspec": {
   "display_name": "Python 3 (ipykernel)",
   "language": "python",
   "name": "python3"
  },
  "language_info": {
   "codemirror_mode": {
    "name": "ipython",
    "version": 3
   },
   "file_extension": ".py",
   "mimetype": "text/x-python",
   "name": "python",
   "nbconvert_exporter": "python",
   "pygments_lexer": "ipython3",
   "version": "3.9.12"
  }
 },
 "nbformat": 4,
 "nbformat_minor": 5
}
